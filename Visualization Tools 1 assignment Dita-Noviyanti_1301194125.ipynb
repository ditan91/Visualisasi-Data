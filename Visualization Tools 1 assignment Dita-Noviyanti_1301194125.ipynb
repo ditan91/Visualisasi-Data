{
  "nbformat": 4,
  "nbformat_minor": 0,
  "metadata": {
    "colab": {
      "name": "Visualization Tools 1 assignment - Dita_Noviyanti_1301194125.ipynb",
      "provenance": []
    },
    "kernelspec": {
      "display_name": "Python 3",
      "language": "python",
      "name": "python3"
    },
    "language_info": {
      "codemirror_mode": {
        "name": "ipython",
        "version": 3
      },
      "file_extension": ".py",
      "mimetype": "text/x-python",
      "name": "python",
      "nbconvert_exporter": "python",
      "pygments_lexer": "ipython3",
      "version": "3.8.5"
    }
  },
  "cells": [
    {
      "cell_type": "markdown",
      "metadata": {
        "button": false,
        "id": "DmRQ6P5Mp6bO",
        "new_sheet": false,
        "run_control": {
          "read_only": false
        }
      },
      "source": [
        "## Assignment\n",
        "\n",
        "Nama : Dita Noviyanti\n",
        "\n",
        "Kelas : IF-42-Gab04\n",
        "\n",
        "NIM : 1301194125"
      ]
    },
    {
      "cell_type": "markdown",
      "metadata": {
        "button": false,
        "id": "-lX55BxPp6bT",
        "new_sheet": false,
        "run_control": {
          "read_only": false
        }
      },
      "source": [
        "Import necessary library"
      ]
    },
    {
      "cell_type": "code",
      "metadata": {
        "button": false,
        "id": "UPtHDSaNp6bT",
        "new_sheet": false,
        "run_control": {
          "read_only": false
        },
        "scrolled": false
      },
      "source": [
        "import numpy as np  # useful for many scientific computing in Python\n",
        "import pandas as pd # primary data structure library"
      ],
      "execution_count": 40,
      "outputs": []
    },
    {
      "cell_type": "code",
      "metadata": {
        "id": "VohUQc74hZdY"
      },
      "source": [
        "%matplotlib inline \n",
        "\n",
        "import matplotlib as mpl\n",
        "import matplotlib.pyplot as plt"
      ],
      "execution_count": 41,
      "outputs": []
    },
    {
      "cell_type": "code",
      "metadata": {
        "colab": {
          "base_uri": "https://localhost:8080/"
        },
        "id": "eZB9yM_thdK3",
        "outputId": "802f4cd6-ff0c-46a5-f1e6-356b15f02f9d"
      },
      "source": [
        "print(plt.style.available)\n",
        "mpl.style.use(['ggplot']) # optional: for ggplot-like style"
      ],
      "execution_count": 42,
      "outputs": [
        {
          "output_type": "stream",
          "name": "stdout",
          "text": [
            "['Solarize_Light2', '_classic_test_patch', 'bmh', 'classic', 'dark_background', 'fast', 'fivethirtyeight', 'ggplot', 'grayscale', 'seaborn', 'seaborn-bright', 'seaborn-colorblind', 'seaborn-dark', 'seaborn-dark-palette', 'seaborn-darkgrid', 'seaborn-deep', 'seaborn-muted', 'seaborn-notebook', 'seaborn-paper', 'seaborn-pastel', 'seaborn-poster', 'seaborn-talk', 'seaborn-ticks', 'seaborn-white', 'seaborn-whitegrid', 'tableau-colorblind10']\n"
          ]
        }
      ]
    },
    {
      "cell_type": "markdown",
      "metadata": {
        "button": false,
        "id": "uvwaLWxmp6bZ",
        "new_sheet": false,
        "run_control": {
          "read_only": false
        }
      },
      "source": [
        "Read the data"
      ]
    },
    {
      "cell_type": "code",
      "metadata": {
        "button": false,
        "id": "nLOkU--Mp6ba",
        "new_sheet": false,
        "run_control": {
          "read_only": false
        },
        "scrolled": false
      },
      "source": [
        "df_can = pd.read_excel('https://s3-api.us-geo.objectstorage.softlayer.net/cf-courses-data/CognitiveClass/DV0101EN/labs/Data_Files/Canada.xlsx',\n",
        "                       sheet_name='Canada by Citizenship',\n",
        "                       skiprows=range(20),\n",
        "                       skipfooter=2)"
      ],
      "execution_count": 43,
      "outputs": []
    },
    {
      "cell_type": "markdown",
      "metadata": {
        "id": "gKh4bnNRiNJ6"
      },
      "source": [
        "Drop unnecessary columns"
      ]
    },
    {
      "cell_type": "code",
      "metadata": {
        "button": false,
        "colab": {
          "base_uri": "https://localhost:8080/",
          "height": 167
        },
        "id": "IEODAu12p6b-",
        "new_sheet": false,
        "run_control": {
          "read_only": false
        },
        "scrolled": false,
        "outputId": "21a1d525-3846-481f-c382-b20992741cd8"
      },
      "source": [
        "# in pandas axis=0 represents rows (default) and axis=1 represents columns.\n",
        "df_can.drop(['AREA','REG','DEV','Type','Coverage'], axis=1, inplace=True)\n",
        "df_can.head(2)"
      ],
      "execution_count": 44,
      "outputs": [
        {
          "output_type": "execute_result",
          "data": {
            "text/html": [
              "<div>\n",
              "<style scoped>\n",
              "    .dataframe tbody tr th:only-of-type {\n",
              "        vertical-align: middle;\n",
              "    }\n",
              "\n",
              "    .dataframe tbody tr th {\n",
              "        vertical-align: top;\n",
              "    }\n",
              "\n",
              "    .dataframe thead th {\n",
              "        text-align: right;\n",
              "    }\n",
              "</style>\n",
              "<table border=\"1\" class=\"dataframe\">\n",
              "  <thead>\n",
              "    <tr style=\"text-align: right;\">\n",
              "      <th></th>\n",
              "      <th>OdName</th>\n",
              "      <th>AreaName</th>\n",
              "      <th>RegName</th>\n",
              "      <th>DevName</th>\n",
              "      <th>1980</th>\n",
              "      <th>1981</th>\n",
              "      <th>1982</th>\n",
              "      <th>1983</th>\n",
              "      <th>1984</th>\n",
              "      <th>1985</th>\n",
              "      <th>1986</th>\n",
              "      <th>1987</th>\n",
              "      <th>1988</th>\n",
              "      <th>1989</th>\n",
              "      <th>1990</th>\n",
              "      <th>1991</th>\n",
              "      <th>1992</th>\n",
              "      <th>1993</th>\n",
              "      <th>1994</th>\n",
              "      <th>1995</th>\n",
              "      <th>1996</th>\n",
              "      <th>1997</th>\n",
              "      <th>1998</th>\n",
              "      <th>1999</th>\n",
              "      <th>2000</th>\n",
              "      <th>2001</th>\n",
              "      <th>2002</th>\n",
              "      <th>2003</th>\n",
              "      <th>2004</th>\n",
              "      <th>2005</th>\n",
              "      <th>2006</th>\n",
              "      <th>2007</th>\n",
              "      <th>2008</th>\n",
              "      <th>2009</th>\n",
              "      <th>2010</th>\n",
              "      <th>2011</th>\n",
              "      <th>2012</th>\n",
              "      <th>2013</th>\n",
              "    </tr>\n",
              "  </thead>\n",
              "  <tbody>\n",
              "    <tr>\n",
              "      <th>0</th>\n",
              "      <td>Afghanistan</td>\n",
              "      <td>Asia</td>\n",
              "      <td>Southern Asia</td>\n",
              "      <td>Developing regions</td>\n",
              "      <td>16</td>\n",
              "      <td>39</td>\n",
              "      <td>39</td>\n",
              "      <td>47</td>\n",
              "      <td>71</td>\n",
              "      <td>340</td>\n",
              "      <td>496</td>\n",
              "      <td>741</td>\n",
              "      <td>828</td>\n",
              "      <td>1076</td>\n",
              "      <td>1028</td>\n",
              "      <td>1378</td>\n",
              "      <td>1170</td>\n",
              "      <td>713</td>\n",
              "      <td>858</td>\n",
              "      <td>1537</td>\n",
              "      <td>2212</td>\n",
              "      <td>2555</td>\n",
              "      <td>1999</td>\n",
              "      <td>2395</td>\n",
              "      <td>3326</td>\n",
              "      <td>4067</td>\n",
              "      <td>3697</td>\n",
              "      <td>3479</td>\n",
              "      <td>2978</td>\n",
              "      <td>3436</td>\n",
              "      <td>3009</td>\n",
              "      <td>2652</td>\n",
              "      <td>2111</td>\n",
              "      <td>1746</td>\n",
              "      <td>1758</td>\n",
              "      <td>2203</td>\n",
              "      <td>2635</td>\n",
              "      <td>2004</td>\n",
              "    </tr>\n",
              "    <tr>\n",
              "      <th>1</th>\n",
              "      <td>Albania</td>\n",
              "      <td>Europe</td>\n",
              "      <td>Southern Europe</td>\n",
              "      <td>Developed regions</td>\n",
              "      <td>1</td>\n",
              "      <td>0</td>\n",
              "      <td>0</td>\n",
              "      <td>0</td>\n",
              "      <td>0</td>\n",
              "      <td>0</td>\n",
              "      <td>1</td>\n",
              "      <td>2</td>\n",
              "      <td>2</td>\n",
              "      <td>3</td>\n",
              "      <td>3</td>\n",
              "      <td>21</td>\n",
              "      <td>56</td>\n",
              "      <td>96</td>\n",
              "      <td>71</td>\n",
              "      <td>63</td>\n",
              "      <td>113</td>\n",
              "      <td>307</td>\n",
              "      <td>574</td>\n",
              "      <td>1264</td>\n",
              "      <td>1816</td>\n",
              "      <td>1602</td>\n",
              "      <td>1021</td>\n",
              "      <td>853</td>\n",
              "      <td>1450</td>\n",
              "      <td>1223</td>\n",
              "      <td>856</td>\n",
              "      <td>702</td>\n",
              "      <td>560</td>\n",
              "      <td>716</td>\n",
              "      <td>561</td>\n",
              "      <td>539</td>\n",
              "      <td>620</td>\n",
              "      <td>603</td>\n",
              "    </tr>\n",
              "  </tbody>\n",
              "</table>\n",
              "</div>"
            ],
            "text/plain": [
              "        OdName AreaName          RegName  ...  2011  2012  2013\n",
              "0  Afghanistan     Asia    Southern Asia  ...  2203  2635  2004\n",
              "1      Albania   Europe  Southern Europe  ...   539   620   603\n",
              "\n",
              "[2 rows x 38 columns]"
            ]
          },
          "metadata": {},
          "execution_count": 44
        }
      ]
    },
    {
      "cell_type": "markdown",
      "metadata": {
        "button": false,
        "id": "kKvx0SQEp6cA",
        "new_sheet": false,
        "run_control": {
          "read_only": false
        }
      },
      "source": [
        "Rename columns title"
      ]
    },
    {
      "cell_type": "code",
      "metadata": {
        "button": false,
        "colab": {
          "base_uri": "https://localhost:8080/"
        },
        "id": "ptbQRotVp6cB",
        "new_sheet": false,
        "run_control": {
          "read_only": false
        },
        "scrolled": false,
        "outputId": "a0ab07e4-3498-4cd2-b9e4-38114d5e1ee2"
      },
      "source": [
        "df_can.rename(columns={'OdName':'Country', 'AreaName':'Continent', 'RegName':'Region'}, inplace=True)\n",
        "df_can.columns"
      ],
      "execution_count": 45,
      "outputs": [
        {
          "output_type": "execute_result",
          "data": {
            "text/plain": [
              "Index([  'Country', 'Continent',    'Region',   'DevName',        1980,\n",
              "              1981,        1982,        1983,        1984,        1985,\n",
              "              1986,        1987,        1988,        1989,        1990,\n",
              "              1991,        1992,        1993,        1994,        1995,\n",
              "              1996,        1997,        1998,        1999,        2000,\n",
              "              2001,        2002,        2003,        2004,        2005,\n",
              "              2006,        2007,        2008,        2009,        2010,\n",
              "              2011,        2012,        2013],\n",
              "      dtype='object')"
            ]
          },
          "metadata": {},
          "execution_count": 45
        }
      ]
    },
    {
      "cell_type": "markdown",
      "metadata": {
        "button": false,
        "id": "Nc9bePeKp6cE",
        "new_sheet": false,
        "run_control": {
          "read_only": false
        }
      },
      "source": [
        "Add a 'Total' column"
      ]
    },
    {
      "cell_type": "code",
      "metadata": {
        "button": false,
        "id": "7QJwDj8yp6cG",
        "new_sheet": false,
        "run_control": {
          "read_only": false
        },
        "scrolled": false
      },
      "source": [
        "df_can['Total'] = df_can.sum(axis=1)"
      ],
      "execution_count": 46,
      "outputs": []
    },
    {
      "cell_type": "code",
      "metadata": {
        "id": "60wLxlfhoIVl"
      },
      "source": [
        "df_can.set_index('Country', inplace=True)"
      ],
      "execution_count": 47,
      "outputs": []
    },
    {
      "cell_type": "code",
      "metadata": {
        "id": "Rpon3RHBeKt-"
      },
      "source": [
        "df_can.index.name = None"
      ],
      "execution_count": 48,
      "outputs": []
    },
    {
      "cell_type": "code",
      "metadata": {
        "colab": {
          "base_uri": "https://localhost:8080/",
          "height": 313
        },
        "id": "MRXsyQ7Vq_Mq",
        "outputId": "2b0a7b3c-6d09-4c98-ff39-c727d4667ac2"
      },
      "source": [
        "df_can.head()"
      ],
      "execution_count": 49,
      "outputs": [
        {
          "output_type": "execute_result",
          "data": {
            "text/html": [
              "<div>\n",
              "<style scoped>\n",
              "    .dataframe tbody tr th:only-of-type {\n",
              "        vertical-align: middle;\n",
              "    }\n",
              "\n",
              "    .dataframe tbody tr th {\n",
              "        vertical-align: top;\n",
              "    }\n",
              "\n",
              "    .dataframe thead th {\n",
              "        text-align: right;\n",
              "    }\n",
              "</style>\n",
              "<table border=\"1\" class=\"dataframe\">\n",
              "  <thead>\n",
              "    <tr style=\"text-align: right;\">\n",
              "      <th></th>\n",
              "      <th>Continent</th>\n",
              "      <th>Region</th>\n",
              "      <th>DevName</th>\n",
              "      <th>1980</th>\n",
              "      <th>1981</th>\n",
              "      <th>1982</th>\n",
              "      <th>1983</th>\n",
              "      <th>1984</th>\n",
              "      <th>1985</th>\n",
              "      <th>1986</th>\n",
              "      <th>1987</th>\n",
              "      <th>1988</th>\n",
              "      <th>1989</th>\n",
              "      <th>1990</th>\n",
              "      <th>1991</th>\n",
              "      <th>1992</th>\n",
              "      <th>1993</th>\n",
              "      <th>1994</th>\n",
              "      <th>1995</th>\n",
              "      <th>1996</th>\n",
              "      <th>1997</th>\n",
              "      <th>1998</th>\n",
              "      <th>1999</th>\n",
              "      <th>2000</th>\n",
              "      <th>2001</th>\n",
              "      <th>2002</th>\n",
              "      <th>2003</th>\n",
              "      <th>2004</th>\n",
              "      <th>2005</th>\n",
              "      <th>2006</th>\n",
              "      <th>2007</th>\n",
              "      <th>2008</th>\n",
              "      <th>2009</th>\n",
              "      <th>2010</th>\n",
              "      <th>2011</th>\n",
              "      <th>2012</th>\n",
              "      <th>2013</th>\n",
              "      <th>Total</th>\n",
              "    </tr>\n",
              "  </thead>\n",
              "  <tbody>\n",
              "    <tr>\n",
              "      <th>Afghanistan</th>\n",
              "      <td>Asia</td>\n",
              "      <td>Southern Asia</td>\n",
              "      <td>Developing regions</td>\n",
              "      <td>16</td>\n",
              "      <td>39</td>\n",
              "      <td>39</td>\n",
              "      <td>47</td>\n",
              "      <td>71</td>\n",
              "      <td>340</td>\n",
              "      <td>496</td>\n",
              "      <td>741</td>\n",
              "      <td>828</td>\n",
              "      <td>1076</td>\n",
              "      <td>1028</td>\n",
              "      <td>1378</td>\n",
              "      <td>1170</td>\n",
              "      <td>713</td>\n",
              "      <td>858</td>\n",
              "      <td>1537</td>\n",
              "      <td>2212</td>\n",
              "      <td>2555</td>\n",
              "      <td>1999</td>\n",
              "      <td>2395</td>\n",
              "      <td>3326</td>\n",
              "      <td>4067</td>\n",
              "      <td>3697</td>\n",
              "      <td>3479</td>\n",
              "      <td>2978</td>\n",
              "      <td>3436</td>\n",
              "      <td>3009</td>\n",
              "      <td>2652</td>\n",
              "      <td>2111</td>\n",
              "      <td>1746</td>\n",
              "      <td>1758</td>\n",
              "      <td>2203</td>\n",
              "      <td>2635</td>\n",
              "      <td>2004</td>\n",
              "      <td>58639</td>\n",
              "    </tr>\n",
              "    <tr>\n",
              "      <th>Albania</th>\n",
              "      <td>Europe</td>\n",
              "      <td>Southern Europe</td>\n",
              "      <td>Developed regions</td>\n",
              "      <td>1</td>\n",
              "      <td>0</td>\n",
              "      <td>0</td>\n",
              "      <td>0</td>\n",
              "      <td>0</td>\n",
              "      <td>0</td>\n",
              "      <td>1</td>\n",
              "      <td>2</td>\n",
              "      <td>2</td>\n",
              "      <td>3</td>\n",
              "      <td>3</td>\n",
              "      <td>21</td>\n",
              "      <td>56</td>\n",
              "      <td>96</td>\n",
              "      <td>71</td>\n",
              "      <td>63</td>\n",
              "      <td>113</td>\n",
              "      <td>307</td>\n",
              "      <td>574</td>\n",
              "      <td>1264</td>\n",
              "      <td>1816</td>\n",
              "      <td>1602</td>\n",
              "      <td>1021</td>\n",
              "      <td>853</td>\n",
              "      <td>1450</td>\n",
              "      <td>1223</td>\n",
              "      <td>856</td>\n",
              "      <td>702</td>\n",
              "      <td>560</td>\n",
              "      <td>716</td>\n",
              "      <td>561</td>\n",
              "      <td>539</td>\n",
              "      <td>620</td>\n",
              "      <td>603</td>\n",
              "      <td>15699</td>\n",
              "    </tr>\n",
              "    <tr>\n",
              "      <th>Algeria</th>\n",
              "      <td>Africa</td>\n",
              "      <td>Northern Africa</td>\n",
              "      <td>Developing regions</td>\n",
              "      <td>80</td>\n",
              "      <td>67</td>\n",
              "      <td>71</td>\n",
              "      <td>69</td>\n",
              "      <td>63</td>\n",
              "      <td>44</td>\n",
              "      <td>69</td>\n",
              "      <td>132</td>\n",
              "      <td>242</td>\n",
              "      <td>434</td>\n",
              "      <td>491</td>\n",
              "      <td>872</td>\n",
              "      <td>795</td>\n",
              "      <td>717</td>\n",
              "      <td>595</td>\n",
              "      <td>1106</td>\n",
              "      <td>2054</td>\n",
              "      <td>1842</td>\n",
              "      <td>2292</td>\n",
              "      <td>2389</td>\n",
              "      <td>2867</td>\n",
              "      <td>3418</td>\n",
              "      <td>3406</td>\n",
              "      <td>3072</td>\n",
              "      <td>3616</td>\n",
              "      <td>3626</td>\n",
              "      <td>4807</td>\n",
              "      <td>3623</td>\n",
              "      <td>4005</td>\n",
              "      <td>5393</td>\n",
              "      <td>4752</td>\n",
              "      <td>4325</td>\n",
              "      <td>3774</td>\n",
              "      <td>4331</td>\n",
              "      <td>69439</td>\n",
              "    </tr>\n",
              "    <tr>\n",
              "      <th>American Samoa</th>\n",
              "      <td>Oceania</td>\n",
              "      <td>Polynesia</td>\n",
              "      <td>Developing regions</td>\n",
              "      <td>0</td>\n",
              "      <td>1</td>\n",
              "      <td>0</td>\n",
              "      <td>0</td>\n",
              "      <td>0</td>\n",
              "      <td>0</td>\n",
              "      <td>0</td>\n",
              "      <td>1</td>\n",
              "      <td>0</td>\n",
              "      <td>1</td>\n",
              "      <td>2</td>\n",
              "      <td>0</td>\n",
              "      <td>0</td>\n",
              "      <td>0</td>\n",
              "      <td>0</td>\n",
              "      <td>0</td>\n",
              "      <td>0</td>\n",
              "      <td>0</td>\n",
              "      <td>0</td>\n",
              "      <td>0</td>\n",
              "      <td>0</td>\n",
              "      <td>0</td>\n",
              "      <td>0</td>\n",
              "      <td>0</td>\n",
              "      <td>0</td>\n",
              "      <td>0</td>\n",
              "      <td>1</td>\n",
              "      <td>0</td>\n",
              "      <td>0</td>\n",
              "      <td>0</td>\n",
              "      <td>0</td>\n",
              "      <td>0</td>\n",
              "      <td>0</td>\n",
              "      <td>0</td>\n",
              "      <td>6</td>\n",
              "    </tr>\n",
              "    <tr>\n",
              "      <th>Andorra</th>\n",
              "      <td>Europe</td>\n",
              "      <td>Southern Europe</td>\n",
              "      <td>Developed regions</td>\n",
              "      <td>0</td>\n",
              "      <td>0</td>\n",
              "      <td>0</td>\n",
              "      <td>0</td>\n",
              "      <td>0</td>\n",
              "      <td>0</td>\n",
              "      <td>2</td>\n",
              "      <td>0</td>\n",
              "      <td>0</td>\n",
              "      <td>0</td>\n",
              "      <td>3</td>\n",
              "      <td>0</td>\n",
              "      <td>1</td>\n",
              "      <td>0</td>\n",
              "      <td>0</td>\n",
              "      <td>0</td>\n",
              "      <td>0</td>\n",
              "      <td>0</td>\n",
              "      <td>2</td>\n",
              "      <td>0</td>\n",
              "      <td>0</td>\n",
              "      <td>1</td>\n",
              "      <td>0</td>\n",
              "      <td>2</td>\n",
              "      <td>0</td>\n",
              "      <td>0</td>\n",
              "      <td>1</td>\n",
              "      <td>1</td>\n",
              "      <td>0</td>\n",
              "      <td>0</td>\n",
              "      <td>0</td>\n",
              "      <td>0</td>\n",
              "      <td>1</td>\n",
              "      <td>1</td>\n",
              "      <td>15</td>\n",
              "    </tr>\n",
              "  </tbody>\n",
              "</table>\n",
              "</div>"
            ],
            "text/plain": [
              "               Continent           Region  ...  2013  Total\n",
              "Afghanistan         Asia    Southern Asia  ...  2004  58639\n",
              "Albania           Europe  Southern Europe  ...   603  15699\n",
              "Algeria           Africa  Northern Africa  ...  4331  69439\n",
              "American Samoa   Oceania        Polynesia  ...     0      6\n",
              "Andorra           Europe  Southern Europe  ...     1     15\n",
              "\n",
              "[5 rows x 38 columns]"
            ]
          },
          "metadata": {},
          "execution_count": 49
        }
      ]
    },
    {
      "cell_type": "markdown",
      "metadata": {
        "button": false,
        "id": "BKt5mxeap6d4",
        "new_sheet": false,
        "run_control": {
          "read_only": false
        }
      },
      "source": [
        "**Question 1:** Let's compare the number of immigrants from India and China from 1980 to 2013.\n"
      ]
    },
    {
      "cell_type": "markdown",
      "metadata": {
        "button": false,
        "id": "8fSH2TpUp6d5",
        "new_sheet": false,
        "run_control": {
          "read_only": false
        }
      },
      "source": [
        "Step 1: Get the data set for China and India, and display dataframe."
      ]
    },
    {
      "cell_type": "code",
      "metadata": {
        "button": false,
        "colab": {
          "base_uri": "https://localhost:8080/",
          "height": 167
        },
        "id": "oN4S30_Yp6d6",
        "new_sheet": false,
        "run_control": {
          "read_only": false
        },
        "scrolled": true,
        "outputId": "c1157b6d-c5d6-4a8a-d0be-687cbab47c9c"
      },
      "source": [
        "### type your answer here\n",
        "df_can.loc[[\"China\",\"India\"]]\n"
      ],
      "execution_count": 50,
      "outputs": [
        {
          "output_type": "execute_result",
          "data": {
            "text/html": [
              "<div>\n",
              "<style scoped>\n",
              "    .dataframe tbody tr th:only-of-type {\n",
              "        vertical-align: middle;\n",
              "    }\n",
              "\n",
              "    .dataframe tbody tr th {\n",
              "        vertical-align: top;\n",
              "    }\n",
              "\n",
              "    .dataframe thead th {\n",
              "        text-align: right;\n",
              "    }\n",
              "</style>\n",
              "<table border=\"1\" class=\"dataframe\">\n",
              "  <thead>\n",
              "    <tr style=\"text-align: right;\">\n",
              "      <th></th>\n",
              "      <th>Continent</th>\n",
              "      <th>Region</th>\n",
              "      <th>DevName</th>\n",
              "      <th>1980</th>\n",
              "      <th>1981</th>\n",
              "      <th>1982</th>\n",
              "      <th>1983</th>\n",
              "      <th>1984</th>\n",
              "      <th>1985</th>\n",
              "      <th>1986</th>\n",
              "      <th>1987</th>\n",
              "      <th>1988</th>\n",
              "      <th>1989</th>\n",
              "      <th>1990</th>\n",
              "      <th>1991</th>\n",
              "      <th>1992</th>\n",
              "      <th>1993</th>\n",
              "      <th>1994</th>\n",
              "      <th>1995</th>\n",
              "      <th>1996</th>\n",
              "      <th>1997</th>\n",
              "      <th>1998</th>\n",
              "      <th>1999</th>\n",
              "      <th>2000</th>\n",
              "      <th>2001</th>\n",
              "      <th>2002</th>\n",
              "      <th>2003</th>\n",
              "      <th>2004</th>\n",
              "      <th>2005</th>\n",
              "      <th>2006</th>\n",
              "      <th>2007</th>\n",
              "      <th>2008</th>\n",
              "      <th>2009</th>\n",
              "      <th>2010</th>\n",
              "      <th>2011</th>\n",
              "      <th>2012</th>\n",
              "      <th>2013</th>\n",
              "      <th>Total</th>\n",
              "    </tr>\n",
              "  </thead>\n",
              "  <tbody>\n",
              "    <tr>\n",
              "      <th>China</th>\n",
              "      <td>Asia</td>\n",
              "      <td>Eastern Asia</td>\n",
              "      <td>Developing regions</td>\n",
              "      <td>5123</td>\n",
              "      <td>6682</td>\n",
              "      <td>3308</td>\n",
              "      <td>1863</td>\n",
              "      <td>1527</td>\n",
              "      <td>1816</td>\n",
              "      <td>1960</td>\n",
              "      <td>2643</td>\n",
              "      <td>2758</td>\n",
              "      <td>4323</td>\n",
              "      <td>8076</td>\n",
              "      <td>14255</td>\n",
              "      <td>10846</td>\n",
              "      <td>9817</td>\n",
              "      <td>13128</td>\n",
              "      <td>14398</td>\n",
              "      <td>19415</td>\n",
              "      <td>20475</td>\n",
              "      <td>21049</td>\n",
              "      <td>30069</td>\n",
              "      <td>35529</td>\n",
              "      <td>36434</td>\n",
              "      <td>31961</td>\n",
              "      <td>36439</td>\n",
              "      <td>36619</td>\n",
              "      <td>42584</td>\n",
              "      <td>33518</td>\n",
              "      <td>27642</td>\n",
              "      <td>30037</td>\n",
              "      <td>29622</td>\n",
              "      <td>30391</td>\n",
              "      <td>28502</td>\n",
              "      <td>33024</td>\n",
              "      <td>34129</td>\n",
              "      <td>659962</td>\n",
              "    </tr>\n",
              "    <tr>\n",
              "      <th>India</th>\n",
              "      <td>Asia</td>\n",
              "      <td>Southern Asia</td>\n",
              "      <td>Developing regions</td>\n",
              "      <td>8880</td>\n",
              "      <td>8670</td>\n",
              "      <td>8147</td>\n",
              "      <td>7338</td>\n",
              "      <td>5704</td>\n",
              "      <td>4211</td>\n",
              "      <td>7150</td>\n",
              "      <td>10189</td>\n",
              "      <td>11522</td>\n",
              "      <td>10343</td>\n",
              "      <td>12041</td>\n",
              "      <td>13734</td>\n",
              "      <td>13673</td>\n",
              "      <td>21496</td>\n",
              "      <td>18620</td>\n",
              "      <td>18489</td>\n",
              "      <td>23859</td>\n",
              "      <td>22268</td>\n",
              "      <td>17241</td>\n",
              "      <td>18974</td>\n",
              "      <td>28572</td>\n",
              "      <td>31223</td>\n",
              "      <td>31889</td>\n",
              "      <td>27155</td>\n",
              "      <td>28235</td>\n",
              "      <td>36210</td>\n",
              "      <td>33848</td>\n",
              "      <td>28742</td>\n",
              "      <td>28261</td>\n",
              "      <td>29456</td>\n",
              "      <td>34235</td>\n",
              "      <td>27509</td>\n",
              "      <td>30933</td>\n",
              "      <td>33087</td>\n",
              "      <td>691904</td>\n",
              "    </tr>\n",
              "  </tbody>\n",
              "</table>\n",
              "</div>"
            ],
            "text/plain": [
              "      Continent         Region             DevName  ...   2012   2013   Total\n",
              "China      Asia   Eastern Asia  Developing regions  ...  33024  34129  659962\n",
              "India      Asia  Southern Asia  Developing regions  ...  30933  33087  691904\n",
              "\n",
              "[2 rows x 38 columns]"
            ]
          },
          "metadata": {},
          "execution_count": 50
        }
      ]
    },
    {
      "cell_type": "markdown",
      "metadata": {
        "button": false,
        "id": "u-fOGhBjp6d-",
        "new_sheet": false,
        "run_control": {
          "read_only": false
        }
      },
      "source": [
        "Step 2: Plot graph. We will explicitly specify line plot by passing in `kind` parameter to `plot()`."
      ]
    },
    {
      "cell_type": "code",
      "metadata": {
        "id": "aL1nMoypoTO2"
      },
      "source": [
        "df_can.columns = list(map(str, df_can.columns))"
      ],
      "execution_count": 51,
      "outputs": []
    },
    {
      "cell_type": "code",
      "metadata": {
        "id": "CZVr5CjlomSq",
        "colab": {
          "base_uri": "https://localhost:8080/"
        },
        "outputId": "623f7773-2e7f-4fc5-b815-42a20d0901f5"
      },
      "source": [
        "years = list(map(str, range(1980, 2014)))\n",
        "years"
      ],
      "execution_count": 52,
      "outputs": [
        {
          "output_type": "execute_result",
          "data": {
            "text/plain": [
              "['1980',\n",
              " '1981',\n",
              " '1982',\n",
              " '1983',\n",
              " '1984',\n",
              " '1985',\n",
              " '1986',\n",
              " '1987',\n",
              " '1988',\n",
              " '1989',\n",
              " '1990',\n",
              " '1991',\n",
              " '1992',\n",
              " '1993',\n",
              " '1994',\n",
              " '1995',\n",
              " '1996',\n",
              " '1997',\n",
              " '1998',\n",
              " '1999',\n",
              " '2000',\n",
              " '2001',\n",
              " '2002',\n",
              " '2003',\n",
              " '2004',\n",
              " '2005',\n",
              " '2006',\n",
              " '2007',\n",
              " '2008',\n",
              " '2009',\n",
              " '2010',\n",
              " '2011',\n",
              " '2012',\n",
              " '2013']"
            ]
          },
          "metadata": {},
          "execution_count": 52
        }
      ]
    },
    {
      "cell_type": "code",
      "metadata": {
        "button": false,
        "colab": {
          "base_uri": "https://localhost:8080/"
        },
        "id": "4MCfVK_Yp6eA",
        "new_sheet": false,
        "run_control": {
          "read_only": false
        },
        "scrolled": true,
        "outputId": "a58374bf-8232-4ec7-c9de-e4965c3253ca"
      },
      "source": [
        "### type your answer here\n",
        "China = df_can.loc['China', years]\n",
        "China.head()"
      ],
      "execution_count": 53,
      "outputs": [
        {
          "output_type": "execute_result",
          "data": {
            "text/plain": [
              "1980    5123\n",
              "1981    6682\n",
              "1982    3308\n",
              "1983    1863\n",
              "1984    1527\n",
              "Name: China, dtype: object"
            ]
          },
          "metadata": {},
          "execution_count": 53
        }
      ]
    },
    {
      "cell_type": "code",
      "metadata": {
        "colab": {
          "base_uri": "https://localhost:8080/",
          "height": 299
        },
        "id": "I3Gp5-EhpEpA",
        "outputId": "1b151877-2a34-4bbe-e332-a5b45437f4c2"
      },
      "source": [
        "China.index = China.index.map(int)\n",
        "China.plot(kind='line')\n",
        "\n",
        "plt.title('Imigrasi dari China')\n",
        "plt.ylabel('Jumlah Imigrasi')\n",
        "plt.xlabel('Tahun')\n",
        "\n",
        "plt.show()"
      ],
      "execution_count": 54,
      "outputs": [
        {
          "output_type": "display_data",
          "data": {
            "image/png": "[encoded data removed]",
            "text/plain": [
              "<Figure size 432x288 with 1 Axes>"
            ]
          },
          "metadata": {}
        }
      ]
    },
    {
      "cell_type": "code",
      "metadata": {
        "colab": {
          "base_uri": "https://localhost:8080/"
        },
        "id": "dI65d4nmpJn8",
        "outputId": "455310f2-0708-4c93-9970-8ea6e8285d5c"
      },
      "source": [
        "India = df_can.loc['India', years]\n",
        "India.head()"
      ],
      "execution_count": 55,
      "outputs": [
        {
          "output_type": "execute_result",
          "data": {
            "text/plain": [
              "1980    8880\n",
              "1981    8670\n",
              "1982    8147\n",
              "1983    7338\n",
              "1984    5704\n",
              "Name: India, dtype: object"
            ]
          },
          "metadata": {},
          "execution_count": 55
        }
      ]
    },
    {
      "cell_type": "code",
      "metadata": {
        "colab": {
          "base_uri": "https://localhost:8080/",
          "height": 299
        },
        "id": "GAuFwBHBpfg-",
        "outputId": "1a890bb0-2fc2-4090-db68-c8439cfa36da"
      },
      "source": [
        "India.index = India.index.map(int)\n",
        "India.plot(kind='line')\n",
        "\n",
        "plt.title('Imigrasi dari India')\n",
        "plt.ylabel('Jumlah Imigrasi')\n",
        "plt.xlabel('Tahun')\n",
        "\n",
        "plt.show()"
      ],
      "execution_count": 56,
      "outputs": [
        {
          "output_type": "display_data",
          "data": {
            "image/png": "[encoded data removed]",
            "text/plain": [
              "<Figure size 432x288 with 1 Axes>"
            ]
          },
          "metadata": {}
        }
      ]
    },
    {
      "cell_type": "code",
      "metadata": {
        "colab": {
          "base_uri": "https://localhost:8080/",
          "height": 299
        },
        "id": "tT6PBNrJm7Qi",
        "outputId": "7993fb33-a269-44c7-d3b3-c7243535d2d1"
      },
      "source": [
        "### type your answer here\n",
        "#compare china india\n",
        "chinaIndia = df_can.loc[['India','China'],years]\n",
        "chinaIndia = chinaIndia.transpose()\n",
        "chinaIndia.index = chinaIndia.index.map(int)\n",
        "chinaIndia.plot(kind='line')\n",
        "\n",
        "plt.title('Perbandingan Imigrasi dari China dan India')\n",
        "plt.ylabel('Jumlah Imigrasi')\n",
        "plt.xlabel('Tahun')\n",
        "plt.show()"
      ],
      "execution_count": 57,
      "outputs": [
        {
          "output_type": "display_data",
          "data": {
            "image/png": "[encoded data removed]",
            "text/plain": [
              "<Figure size 432x288 with 1 Axes>"
            ]
          },
          "metadata": {}
        }
      ]
    },
    {
      "cell_type": "markdown",
      "metadata": {
        "button": false,
        "id": "UuuBI9MQp6eP",
        "new_sheet": false,
        "run_control": {
          "read_only": false
        }
      },
      "source": [
        "**Question 2:** Compare the trend of top 5 countries that contributed the most to immigration to Canada."
      ]
    },
    {
      "cell_type": "markdown",
      "metadata": {
        "id": "2kE0Cg7viNLq"
      },
      "source": [
        "Step 1: Get the data set for top 5 countries"
      ]
    },
    {
      "cell_type": "code",
      "metadata": {
        "button": false,
        "colab": {
          "base_uri": "https://localhost:8080/",
          "height": 1000
        },
        "id": "JmnoRTmDp6eP",
        "new_sheet": false,
        "run_control": {
          "read_only": false
        },
        "outputId": "fa425a1b-0cf4-48f7-c571-8995f7b61554"
      },
      "source": [
        "### type your answer here\n",
        "df_can.sort_values(['Total'], ascending=False, axis=0, inplace=True)\n",
        "topFive = df_can.head()\n",
        "topFive = topFive[years].transpose()\n",
        "\n",
        "topFive\n"
      ],
      "execution_count": 58,
      "outputs": [
        {
          "output_type": "execute_result",
          "data": {
            "text/html": [
              "<div>\n",
              "<style scoped>\n",
              "    .dataframe tbody tr th:only-of-type {\n",
              "        vertical-align: middle;\n",
              "    }\n",
              "\n",
              "    .dataframe tbody tr th {\n",
              "        vertical-align: top;\n",
              "    }\n",
              "\n",
              "    .dataframe thead th {\n",
              "        text-align: right;\n",
              "    }\n",
              "</style>\n",
              "<table border=\"1\" class=\"dataframe\">\n",
              "  <thead>\n",
              "    <tr style=\"text-align: right;\">\n",
              "      <th></th>\n",
              "      <th>India</th>\n",
              "      <th>China</th>\n",
              "      <th>United Kingdom of Great Britain and Northern Ireland</th>\n",
              "      <th>Philippines</th>\n",
              "      <th>Pakistan</th>\n",
              "    </tr>\n",
              "  </thead>\n",
              "  <tbody>\n",
              "    <tr>\n",
              "      <th>1980</th>\n",
              "      <td>8880</td>\n",
              "      <td>5123</td>\n",
              "      <td>22045</td>\n",
              "      <td>6051</td>\n",
              "      <td>978</td>\n",
              "    </tr>\n",
              "    <tr>\n",
              "      <th>1981</th>\n",
              "      <td>8670</td>\n",
              "      <td>6682</td>\n",
              "      <td>24796</td>\n",
              "      <td>5921</td>\n",
              "      <td>972</td>\n",
              "    </tr>\n",
              "    <tr>\n",
              "      <th>1982</th>\n",
              "      <td>8147</td>\n",
              "      <td>3308</td>\n",
              "      <td>20620</td>\n",
              "      <td>5249</td>\n",
              "      <td>1201</td>\n",
              "    </tr>\n",
              "    <tr>\n",
              "      <th>1983</th>\n",
              "      <td>7338</td>\n",
              "      <td>1863</td>\n",
              "      <td>10015</td>\n",
              "      <td>4562</td>\n",
              "      <td>900</td>\n",
              "    </tr>\n",
              "    <tr>\n",
              "      <th>1984</th>\n",
              "      <td>5704</td>\n",
              "      <td>1527</td>\n",
              "      <td>10170</td>\n",
              "      <td>3801</td>\n",
              "      <td>668</td>\n",
              "    </tr>\n",
              "    <tr>\n",
              "      <th>1985</th>\n",
              "      <td>4211</td>\n",
              "      <td>1816</td>\n",
              "      <td>9564</td>\n",
              "      <td>3150</td>\n",
              "      <td>514</td>\n",
              "    </tr>\n",
              "    <tr>\n",
              "      <th>1986</th>\n",
              "      <td>7150</td>\n",
              "      <td>1960</td>\n",
              "      <td>9470</td>\n",
              "      <td>4166</td>\n",
              "      <td>691</td>\n",
              "    </tr>\n",
              "    <tr>\n",
              "      <th>1987</th>\n",
              "      <td>10189</td>\n",
              "      <td>2643</td>\n",
              "      <td>21337</td>\n",
              "      <td>7360</td>\n",
              "      <td>1072</td>\n",
              "    </tr>\n",
              "    <tr>\n",
              "      <th>1988</th>\n",
              "      <td>11522</td>\n",
              "      <td>2758</td>\n",
              "      <td>27359</td>\n",
              "      <td>8639</td>\n",
              "      <td>1334</td>\n",
              "    </tr>\n",
              "    <tr>\n",
              "      <th>1989</th>\n",
              "      <td>10343</td>\n",
              "      <td>4323</td>\n",
              "      <td>23795</td>\n",
              "      <td>11865</td>\n",
              "      <td>2261</td>\n",
              "    </tr>\n",
              "    <tr>\n",
              "      <th>1990</th>\n",
              "      <td>12041</td>\n",
              "      <td>8076</td>\n",
              "      <td>31668</td>\n",
              "      <td>12509</td>\n",
              "      <td>2470</td>\n",
              "    </tr>\n",
              "    <tr>\n",
              "      <th>1991</th>\n",
              "      <td>13734</td>\n",
              "      <td>14255</td>\n",
              "      <td>23380</td>\n",
              "      <td>12718</td>\n",
              "      <td>3079</td>\n",
              "    </tr>\n",
              "    <tr>\n",
              "      <th>1992</th>\n",
              "      <td>13673</td>\n",
              "      <td>10846</td>\n",
              "      <td>34123</td>\n",
              "      <td>13670</td>\n",
              "      <td>4071</td>\n",
              "    </tr>\n",
              "    <tr>\n",
              "      <th>1993</th>\n",
              "      <td>21496</td>\n",
              "      <td>9817</td>\n",
              "      <td>33720</td>\n",
              "      <td>20479</td>\n",
              "      <td>4777</td>\n",
              "    </tr>\n",
              "    <tr>\n",
              "      <th>1994</th>\n",
              "      <td>18620</td>\n",
              "      <td>13128</td>\n",
              "      <td>39231</td>\n",
              "      <td>19532</td>\n",
              "      <td>4666</td>\n",
              "    </tr>\n",
              "    <tr>\n",
              "      <th>1995</th>\n",
              "      <td>18489</td>\n",
              "      <td>14398</td>\n",
              "      <td>30145</td>\n",
              "      <td>15864</td>\n",
              "      <td>4994</td>\n",
              "    </tr>\n",
              "    <tr>\n",
              "      <th>1996</th>\n",
              "      <td>23859</td>\n",
              "      <td>19415</td>\n",
              "      <td>29322</td>\n",
              "      <td>13692</td>\n",
              "      <td>9125</td>\n",
              "    </tr>\n",
              "    <tr>\n",
              "      <th>1997</th>\n",
              "      <td>22268</td>\n",
              "      <td>20475</td>\n",
              "      <td>22965</td>\n",
              "      <td>11549</td>\n",
              "      <td>13073</td>\n",
              "    </tr>\n",
              "    <tr>\n",
              "      <th>1998</th>\n",
              "      <td>17241</td>\n",
              "      <td>21049</td>\n",
              "      <td>10367</td>\n",
              "      <td>8735</td>\n",
              "      <td>9068</td>\n",
              "    </tr>\n",
              "    <tr>\n",
              "      <th>1999</th>\n",
              "      <td>18974</td>\n",
              "      <td>30069</td>\n",
              "      <td>7045</td>\n",
              "      <td>9734</td>\n",
              "      <td>9979</td>\n",
              "    </tr>\n",
              "    <tr>\n",
              "      <th>2000</th>\n",
              "      <td>28572</td>\n",
              "      <td>35529</td>\n",
              "      <td>8840</td>\n",
              "      <td>10763</td>\n",
              "      <td>15400</td>\n",
              "    </tr>\n",
              "    <tr>\n",
              "      <th>2001</th>\n",
              "      <td>31223</td>\n",
              "      <td>36434</td>\n",
              "      <td>11728</td>\n",
              "      <td>13836</td>\n",
              "      <td>16708</td>\n",
              "    </tr>\n",
              "    <tr>\n",
              "      <th>2002</th>\n",
              "      <td>31889</td>\n",
              "      <td>31961</td>\n",
              "      <td>8046</td>\n",
              "      <td>11707</td>\n",
              "      <td>15110</td>\n",
              "    </tr>\n",
              "    <tr>\n",
              "      <th>2003</th>\n",
              "      <td>27155</td>\n",
              "      <td>36439</td>\n",
              "      <td>6797</td>\n",
              "      <td>12758</td>\n",
              "      <td>13205</td>\n",
              "    </tr>\n",
              "    <tr>\n",
              "      <th>2004</th>\n",
              "      <td>28235</td>\n",
              "      <td>36619</td>\n",
              "      <td>7533</td>\n",
              "      <td>14004</td>\n",
              "      <td>13399</td>\n",
              "    </tr>\n",
              "    <tr>\n",
              "      <th>2005</th>\n",
              "      <td>36210</td>\n",
              "      <td>42584</td>\n",
              "      <td>7258</td>\n",
              "      <td>18139</td>\n",
              "      <td>14314</td>\n",
              "    </tr>\n",
              "    <tr>\n",
              "      <th>2006</th>\n",
              "      <td>33848</td>\n",
              "      <td>33518</td>\n",
              "      <td>7140</td>\n",
              "      <td>18400</td>\n",
              "      <td>13127</td>\n",
              "    </tr>\n",
              "    <tr>\n",
              "      <th>2007</th>\n",
              "      <td>28742</td>\n",
              "      <td>27642</td>\n",
              "      <td>8216</td>\n",
              "      <td>19837</td>\n",
              "      <td>10124</td>\n",
              "    </tr>\n",
              "    <tr>\n",
              "      <th>2008</th>\n",
              "      <td>28261</td>\n",
              "      <td>30037</td>\n",
              "      <td>8979</td>\n",
              "      <td>24887</td>\n",
              "      <td>8994</td>\n",
              "    </tr>\n",
              "    <tr>\n",
              "      <th>2009</th>\n",
              "      <td>29456</td>\n",
              "      <td>29622</td>\n",
              "      <td>8876</td>\n",
              "      <td>28573</td>\n",
              "      <td>7217</td>\n",
              "    </tr>\n",
              "    <tr>\n",
              "      <th>2010</th>\n",
              "      <td>34235</td>\n",
              "      <td>30391</td>\n",
              "      <td>8724</td>\n",
              "      <td>38617</td>\n",
              "      <td>6811</td>\n",
              "    </tr>\n",
              "    <tr>\n",
              "      <th>2011</th>\n",
              "      <td>27509</td>\n",
              "      <td>28502</td>\n",
              "      <td>6204</td>\n",
              "      <td>36765</td>\n",
              "      <td>7468</td>\n",
              "    </tr>\n",
              "    <tr>\n",
              "      <th>2012</th>\n",
              "      <td>30933</td>\n",
              "      <td>33024</td>\n",
              "      <td>6195</td>\n",
              "      <td>34315</td>\n",
              "      <td>11227</td>\n",
              "    </tr>\n",
              "    <tr>\n",
              "      <th>2013</th>\n",
              "      <td>33087</td>\n",
              "      <td>34129</td>\n",
              "      <td>5827</td>\n",
              "      <td>29544</td>\n",
              "      <td>12603</td>\n",
              "    </tr>\n",
              "  </tbody>\n",
              "</table>\n",
              "</div>"
            ],
            "text/plain": [
              "      India  China  ...  Philippines  Pakistan\n",
              "1980   8880   5123  ...         6051       978\n",
              "1981   8670   6682  ...         5921       972\n",
              "1982   8147   3308  ...         5249      1201\n",
              "1983   7338   1863  ...         4562       900\n",
              "1984   5704   1527  ...         3801       668\n",
              "1985   4211   1816  ...         3150       514\n",
              "1986   7150   1960  ...         4166       691\n",
              "1987  10189   2643  ...         7360      1072\n",
              "1988  11522   2758  ...         8639      1334\n",
              "1989  10343   4323  ...        11865      2261\n",
              "1990  12041   8076  ...        12509      2470\n",
              "1991  13734  14255  ...        12718      3079\n",
              "1992  13673  10846  ...        13670      4071\n",
              "1993  21496   9817  ...        20479      4777\n",
              "1994  18620  13128  ...        19532      4666\n",
              "1995  18489  14398  ...        15864      4994\n",
              "1996  23859  19415  ...        13692      9125\n",
              "1997  22268  20475  ...        11549     13073\n",
              "1998  17241  21049  ...         8735      9068\n",
              "1999  18974  30069  ...         9734      9979\n",
              "2000  28572  35529  ...        10763     15400\n",
              "2001  31223  36434  ...        13836     16708\n",
              "2002  31889  31961  ...        11707     15110\n",
              "2003  27155  36439  ...        12758     13205\n",
              "2004  28235  36619  ...        14004     13399\n",
              "2005  36210  42584  ...        18139     14314\n",
              "2006  33848  33518  ...        18400     13127\n",
              "2007  28742  27642  ...        19837     10124\n",
              "2008  28261  30037  ...        24887      8994\n",
              "2009  29456  29622  ...        28573      7217\n",
              "2010  34235  30391  ...        38617      6811\n",
              "2011  27509  28502  ...        36765      7468\n",
              "2012  30933  33024  ...        34315     11227\n",
              "2013  33087  34129  ...        29544     12603\n",
              "\n",
              "[34 rows x 5 columns]"
            ]
          },
          "metadata": {},
          "execution_count": 58
        }
      ]
    },
    {
      "cell_type": "markdown",
      "metadata": {
        "id": "chzpn1LWiNLr"
      },
      "source": [
        "Step 2: Plot graph"
      ]
    },
    {
      "cell_type": "code",
      "metadata": {
        "button": false,
        "colab": {
          "base_uri": "https://localhost:8080/",
          "height": 517
        },
        "id": "q5C2Yibxq4dk",
        "new_sheet": false,
        "run_control": {
          "read_only": false
        },
        "outputId": "394ad46c-ebd0-4eef-a9d6-4e261aa935ba"
      },
      "source": [
        "### type your answer here\n",
        "topFive.index = topFive.index.map(int)\n",
        "topFive.plot(kind='area',\n",
        "             stacked=False,\n",
        "             figsize=(15, 8),\n",
        "             )\n",
        "\n",
        "plt.title('Top 5 Negara Imigrasi tertinggi')\n",
        "plt.ylabel('Jumlah Imigrasi')\n",
        "plt.xlabel('Tahun')\n",
        "\n",
        "plt.show()\n",
        "\n",
        "\n"
      ],
      "execution_count": 59,
      "outputs": [
        {
          "output_type": "display_data",
          "data": {
            "image/png": "[encoded data removed]",
            "text/plain": [
              "<Figure size 1080x576 with 1 Axes>"
            ]
          },
          "metadata": {}
        }
      ]
    },
    {
      "cell_type": "markdown",
      "metadata": {
        "button": false,
        "id": "jFxW-aYgq4dm",
        "new_sheet": false,
        "run_control": {
          "read_only": false
        }
      },
      "source": [
        "**Question 3**: Create an unstacked area plot of the 5 countries that contributed the least to immigration to Canada **from** 1980 to 2013. Use a transparency value of 0.55."
      ]
    },
    {
      "cell_type": "code",
      "metadata": {
        "colab": {
          "base_uri": "https://localhost:8080/",
          "height": 1000
        },
        "id": "N8VNdGRip86l",
        "outputId": "59d11c6f-5b70-4c6a-b27f-f33ce48c1710"
      },
      "source": [
        "df_can.sort_values(['Total'], ascending=False, axis=0, inplace=True)\n",
        "topFiveLeast = df_can.tail()\n",
        "topFiveLeast = topFiveLeast[years].transpose()\n",
        "\n",
        "topFiveLeast"
      ],
      "execution_count": 60,
      "outputs": [
        {
          "output_type": "execute_result",
          "data": {
            "text/html": [
              "<div>\n",
              "<style scoped>\n",
              "    .dataframe tbody tr th:only-of-type {\n",
              "        vertical-align: middle;\n",
              "    }\n",
              "\n",
              "    .dataframe tbody tr th {\n",
              "        vertical-align: top;\n",
              "    }\n",
              "\n",
              "    .dataframe thead th {\n",
              "        text-align: right;\n",
              "    }\n",
              "</style>\n",
              "<table border=\"1\" class=\"dataframe\">\n",
              "  <thead>\n",
              "    <tr style=\"text-align: right;\">\n",
              "      <th></th>\n",
              "      <th>San Marino</th>\n",
              "      <th>New Caledonia</th>\n",
              "      <th>Marshall Islands</th>\n",
              "      <th>Western Sahara</th>\n",
              "      <th>Palau</th>\n",
              "    </tr>\n",
              "  </thead>\n",
              "  <tbody>\n",
              "    <tr>\n",
              "      <th>1980</th>\n",
              "      <td>1</td>\n",
              "      <td>0</td>\n",
              "      <td>0</td>\n",
              "      <td>0</td>\n",
              "      <td>0</td>\n",
              "    </tr>\n",
              "    <tr>\n",
              "      <th>1981</th>\n",
              "      <td>0</td>\n",
              "      <td>0</td>\n",
              "      <td>0</td>\n",
              "      <td>0</td>\n",
              "      <td>0</td>\n",
              "    </tr>\n",
              "    <tr>\n",
              "      <th>1982</th>\n",
              "      <td>0</td>\n",
              "      <td>0</td>\n",
              "      <td>0</td>\n",
              "      <td>0</td>\n",
              "      <td>0</td>\n",
              "    </tr>\n",
              "    <tr>\n",
              "      <th>1983</th>\n",
              "      <td>0</td>\n",
              "      <td>0</td>\n",
              "      <td>0</td>\n",
              "      <td>0</td>\n",
              "      <td>0</td>\n",
              "    </tr>\n",
              "    <tr>\n",
              "      <th>1984</th>\n",
              "      <td>0</td>\n",
              "      <td>0</td>\n",
              "      <td>0</td>\n",
              "      <td>0</td>\n",
              "      <td>0</td>\n",
              "    </tr>\n",
              "    <tr>\n",
              "      <th>1985</th>\n",
              "      <td>0</td>\n",
              "      <td>0</td>\n",
              "      <td>0</td>\n",
              "      <td>0</td>\n",
              "      <td>0</td>\n",
              "    </tr>\n",
              "    <tr>\n",
              "      <th>1986</th>\n",
              "      <td>1</td>\n",
              "      <td>0</td>\n",
              "      <td>0</td>\n",
              "      <td>0</td>\n",
              "      <td>0</td>\n",
              "    </tr>\n",
              "    <tr>\n",
              "      <th>1987</th>\n",
              "      <td>0</td>\n",
              "      <td>0</td>\n",
              "      <td>0</td>\n",
              "      <td>0</td>\n",
              "      <td>0</td>\n",
              "    </tr>\n",
              "    <tr>\n",
              "      <th>1988</th>\n",
              "      <td>0</td>\n",
              "      <td>0</td>\n",
              "      <td>0</td>\n",
              "      <td>0</td>\n",
              "      <td>0</td>\n",
              "    </tr>\n",
              "    <tr>\n",
              "      <th>1989</th>\n",
              "      <td>0</td>\n",
              "      <td>0</td>\n",
              "      <td>0</td>\n",
              "      <td>0</td>\n",
              "      <td>0</td>\n",
              "    </tr>\n",
              "    <tr>\n",
              "      <th>1990</th>\n",
              "      <td>1</td>\n",
              "      <td>0</td>\n",
              "      <td>0</td>\n",
              "      <td>0</td>\n",
              "      <td>0</td>\n",
              "    </tr>\n",
              "    <tr>\n",
              "      <th>1991</th>\n",
              "      <td>0</td>\n",
              "      <td>0</td>\n",
              "      <td>0</td>\n",
              "      <td>1</td>\n",
              "      <td>0</td>\n",
              "    </tr>\n",
              "    <tr>\n",
              "      <th>1992</th>\n",
              "      <td>0</td>\n",
              "      <td>0</td>\n",
              "      <td>0</td>\n",
              "      <td>0</td>\n",
              "      <td>0</td>\n",
              "    </tr>\n",
              "    <tr>\n",
              "      <th>1993</th>\n",
              "      <td>0</td>\n",
              "      <td>0</td>\n",
              "      <td>0</td>\n",
              "      <td>0</td>\n",
              "      <td>0</td>\n",
              "    </tr>\n",
              "    <tr>\n",
              "      <th>1994</th>\n",
              "      <td>0</td>\n",
              "      <td>0</td>\n",
              "      <td>0</td>\n",
              "      <td>0</td>\n",
              "      <td>0</td>\n",
              "    </tr>\n",
              "    <tr>\n",
              "      <th>1995</th>\n",
              "      <td>0</td>\n",
              "      <td>0</td>\n",
              "      <td>0</td>\n",
              "      <td>0</td>\n",
              "      <td>0</td>\n",
              "    </tr>\n",
              "    <tr>\n",
              "      <th>1996</th>\n",
              "      <td>0</td>\n",
              "      <td>0</td>\n",
              "      <td>0</td>\n",
              "      <td>0</td>\n",
              "      <td>0</td>\n",
              "    </tr>\n",
              "    <tr>\n",
              "      <th>1997</th>\n",
              "      <td>0</td>\n",
              "      <td>0</td>\n",
              "      <td>0</td>\n",
              "      <td>0</td>\n",
              "      <td>0</td>\n",
              "    </tr>\n",
              "    <tr>\n",
              "      <th>1998</th>\n",
              "      <td>0</td>\n",
              "      <td>0</td>\n",
              "      <td>0</td>\n",
              "      <td>0</td>\n",
              "      <td>0</td>\n",
              "    </tr>\n",
              "    <tr>\n",
              "      <th>1999</th>\n",
              "      <td>0</td>\n",
              "      <td>0</td>\n",
              "      <td>0</td>\n",
              "      <td>0</td>\n",
              "      <td>0</td>\n",
              "    </tr>\n",
              "    <tr>\n",
              "      <th>2000</th>\n",
              "      <td>0</td>\n",
              "      <td>0</td>\n",
              "      <td>0</td>\n",
              "      <td>0</td>\n",
              "      <td>0</td>\n",
              "    </tr>\n",
              "    <tr>\n",
              "      <th>2001</th>\n",
              "      <td>0</td>\n",
              "      <td>1</td>\n",
              "      <td>0</td>\n",
              "      <td>0</td>\n",
              "      <td>0</td>\n",
              "    </tr>\n",
              "    <tr>\n",
              "      <th>2002</th>\n",
              "      <td>0</td>\n",
              "      <td>0</td>\n",
              "      <td>0</td>\n",
              "      <td>0</td>\n",
              "      <td>0</td>\n",
              "    </tr>\n",
              "    <tr>\n",
              "      <th>2003</th>\n",
              "      <td>1</td>\n",
              "      <td>1</td>\n",
              "      <td>0</td>\n",
              "      <td>0</td>\n",
              "      <td>0</td>\n",
              "    </tr>\n",
              "    <tr>\n",
              "      <th>2004</th>\n",
              "      <td>0</td>\n",
              "      <td>0</td>\n",
              "      <td>0</td>\n",
              "      <td>0</td>\n",
              "      <td>0</td>\n",
              "    </tr>\n",
              "    <tr>\n",
              "      <th>2005</th>\n",
              "      <td>0</td>\n",
              "      <td>0</td>\n",
              "      <td>0</td>\n",
              "      <td>0</td>\n",
              "      <td>0</td>\n",
              "    </tr>\n",
              "    <tr>\n",
              "      <th>2006</th>\n",
              "      <td>0</td>\n",
              "      <td>0</td>\n",
              "      <td>0</td>\n",
              "      <td>1</td>\n",
              "      <td>0</td>\n",
              "    </tr>\n",
              "    <tr>\n",
              "      <th>2007</th>\n",
              "      <td>0</td>\n",
              "      <td>0</td>\n",
              "      <td>2</td>\n",
              "      <td>0</td>\n",
              "      <td>1</td>\n",
              "    </tr>\n",
              "    <tr>\n",
              "      <th>2008</th>\n",
              "      <td>0</td>\n",
              "      <td>1</td>\n",
              "      <td>0</td>\n",
              "      <td>0</td>\n",
              "      <td>0</td>\n",
              "    </tr>\n",
              "    <tr>\n",
              "      <th>2009</th>\n",
              "      <td>0</td>\n",
              "      <td>0</td>\n",
              "      <td>0</td>\n",
              "      <td>0</td>\n",
              "      <td>0</td>\n",
              "    </tr>\n",
              "    <tr>\n",
              "      <th>2010</th>\n",
              "      <td>1</td>\n",
              "      <td>0</td>\n",
              "      <td>0</td>\n",
              "      <td>0</td>\n",
              "      <td>0</td>\n",
              "    </tr>\n",
              "    <tr>\n",
              "      <th>2011</th>\n",
              "      <td>0</td>\n",
              "      <td>0</td>\n",
              "      <td>0</td>\n",
              "      <td>0</td>\n",
              "      <td>0</td>\n",
              "    </tr>\n",
              "    <tr>\n",
              "      <th>2012</th>\n",
              "      <td>0</td>\n",
              "      <td>0</td>\n",
              "      <td>0</td>\n",
              "      <td>0</td>\n",
              "      <td>0</td>\n",
              "    </tr>\n",
              "    <tr>\n",
              "      <th>2013</th>\n",
              "      <td>0</td>\n",
              "      <td>2</td>\n",
              "      <td>0</td>\n",
              "      <td>0</td>\n",
              "      <td>0</td>\n",
              "    </tr>\n",
              "  </tbody>\n",
              "</table>\n",
              "</div>"
            ],
            "text/plain": [
              "      San Marino  New Caledonia  Marshall Islands  Western Sahara  Palau\n",
              "1980           1              0                 0               0      0\n",
              "1981           0              0                 0               0      0\n",
              "1982           0              0                 0               0      0\n",
              "1983           0              0                 0               0      0\n",
              "1984           0              0                 0               0      0\n",
              "1985           0              0                 0               0      0\n",
              "1986           1              0                 0               0      0\n",
              "1987           0              0                 0               0      0\n",
              "1988           0              0                 0               0      0\n",
              "1989           0              0                 0               0      0\n",
              "1990           1              0                 0               0      0\n",
              "1991           0              0                 0               1      0\n",
              "1992           0              0                 0               0      0\n",
              "1993           0              0                 0               0      0\n",
              "1994           0              0                 0               0      0\n",
              "1995           0              0                 0               0      0\n",
              "1996           0              0                 0               0      0\n",
              "1997           0              0                 0               0      0\n",
              "1998           0              0                 0               0      0\n",
              "1999           0              0                 0               0      0\n",
              "2000           0              0                 0               0      0\n",
              "2001           0              1                 0               0      0\n",
              "2002           0              0                 0               0      0\n",
              "2003           1              1                 0               0      0\n",
              "2004           0              0                 0               0      0\n",
              "2005           0              0                 0               0      0\n",
              "2006           0              0                 0               1      0\n",
              "2007           0              0                 2               0      1\n",
              "2008           0              1                 0               0      0\n",
              "2009           0              0                 0               0      0\n",
              "2010           1              0                 0               0      0\n",
              "2011           0              0                 0               0      0\n",
              "2012           0              0                 0               0      0\n",
              "2013           0              2                 0               0      0"
            ]
          },
          "metadata": {},
          "execution_count": 60
        }
      ]
    },
    {
      "cell_type": "code",
      "metadata": {
        "button": false,
        "colab": {
          "base_uri": "https://localhost:8080/",
          "height": 517
        },
        "id": "xLYF2_rSq4dn",
        "new_sheet": false,
        "run_control": {
          "read_only": false
        },
        "outputId": "f72e5c6e-93d0-482b-8890-5cfe2fdd2c3d"
      },
      "source": [
        "### type your answer here\n",
        "topFiveLeast.index = topFiveLeast.index.map(int)\n",
        "topFiveLeast.plot(kind='area',\n",
        "             alpha=0.55,\n",
        "             stacked=False,\n",
        "             figsize=(15, 8),\n",
        "             )\n",
        "\n",
        "plt.title('Top 5 Negara Imigrasi terendah')\n",
        "plt.ylabel('Jumlah Imigrasi')\n",
        "plt.xlabel('Tahun')\n",
        "\n",
        "plt.show()\n",
        "\n",
        "\n"
      ],
      "execution_count": 61,
      "outputs": [
        {
          "output_type": "display_data",
          "data": {
            "image/png": "[encoded data removed]",
            "text/plain": [
              "<Figure size 1080x576 with 1 Axes>"
            ]
          },
          "metadata": {}
        }
      ]
    },
    {
      "cell_type": "markdown",
      "metadata": {
        "button": false,
        "id": "35IWzPyqq4eO",
        "new_sheet": false,
        "run_control": {
          "read_only": false
        }
      },
      "source": [
        "**Question 4**: Display the immigration distribution for Greece, Albania, and Bulgaria for years 1980 - 2013? Use an overlapping plot with 15 bins and a transparency value of 0.35."
      ]
    },
    {
      "cell_type": "code",
      "metadata": {
        "button": false,
        "id": "9wlo6AvAq4eO",
        "new_sheet": false,
        "run_control": {
          "read_only": false
        },
        "colab": {
          "base_uri": "https://localhost:8080/",
          "height": 408
        },
        "outputId": "9b4eb038-35b9-4ec8-8865-76480f453c64"
      },
      "source": [
        "### type your answer here\n",
        "display3Country = df_can.loc[['Greece', 'Albania', 'Bulgaria'], years]\n",
        "display3Country = display3Country.transpose()\n",
        "count, bin_edges = np.histogram(display3Country, 15)\n",
        "display3Country.plot(kind ='hist',\n",
        "                      figsize=(10, 6),\n",
        "                      bins=15,\n",
        "                      alpha=0.35,\n",
        "                      xticks=bin_edges,\n",
        "                      color=['pink', 'red', 'blue']\n",
        "                      )\n",
        "plt.title('Imigrasi dari Greece, Albania, and Bulgaria dari tahun 1980-2013')\n",
        "plt.ylabel('Tahun')\n",
        "plt.xlabel('Jumlah Imigrasi')\n",
        "plt.show()\n",
        "\n",
        "\n"
      ],
      "execution_count": 62,
      "outputs": [
        {
          "output_type": "display_data",
          "data": {
            "image/png": "[encoded data removed]",
            "text/plain": [
              "<Figure size 720x432 with 1 Axes>"
            ]
          },
          "metadata": {}
        }
      ]
    },
    {
      "cell_type": "markdown",
      "metadata": {
        "button": false,
        "id": "b2weGHgHq4ej",
        "new_sheet": false,
        "run_control": {
          "read_only": false
        }
      },
      "source": [
        "**Question 5:** Create a *horizontal* bar plot showing the *total* number of immigrants to Canada from the top 15 countries, for the period 1980 - 2013. Label each country with the total immigrant count."
      ]
    },
    {
      "cell_type": "markdown",
      "metadata": {
        "button": false,
        "id": "mTITTjcLq4ek",
        "new_sheet": false,
        "run_control": {
          "read_only": false
        }
      },
      "source": [
        "Step 1: Get the data pertaining to the top 15 countries."
      ]
    },
    {
      "cell_type": "code",
      "metadata": {
        "button": false,
        "id": "Tl9JyIydq4el",
        "new_sheet": false,
        "run_control": {
          "read_only": false
        },
        "colab": {
          "base_uri": "https://localhost:8080/"
        },
        "outputId": "7eebcac1-19f8-4819-fad9-e8058fbd14e6"
      },
      "source": [
        "### type your answer here\n",
        "df_can.sort_values(by='Total', ascending=False, inplace=True)\n",
        "\n",
        "\n",
        "topFiveteen = df_can['Total'].head(15)\n",
        "topFiveteen"
      ],
      "execution_count": 63,
      "outputs": [
        {
          "output_type": "execute_result",
          "data": {
            "text/plain": [
              "India                                                   691904\n",
              "China                                                   659962\n",
              "United Kingdom of Great Britain and Northern Ireland    551500\n",
              "Philippines                                             511391\n",
              "Pakistan                                                241600\n",
              "United States of America                                241122\n",
              "Iran (Islamic Republic of)                              175923\n",
              "Sri Lanka                                               148358\n",
              "Republic of Korea                                       142581\n",
              "Poland                                                  139241\n",
              "Lebanon                                                 115359\n",
              "France                                                  109091\n",
              "Jamaica                                                 106431\n",
              "Viet Nam                                                 97146\n",
              "Romania                                                  93585\n",
              "Name: Total, dtype: int64"
            ]
          },
          "metadata": {},
          "execution_count": 63
        }
      ]
    },
    {
      "cell_type": "markdown",
      "metadata": {
        "button": false,
        "id": "ngCvLeJoq4en",
        "new_sheet": false,
        "run_control": {
          "read_only": false
        }
      },
      "source": [
        "Step 2: Plot data:\n",
        "   1. Use `kind='barh'` to generate a bar chart with horizontal bars.\n",
        "   2. Make sure to choose a good size for the plot and to label your axes and to give the plot a title.\n",
        "<!--    3. Loop through the countries and annotate the immigrant population using the anotate function of the scripting interface. -->"
      ]
    },
    {
      "cell_type": "code",
      "metadata": {
        "button": false,
        "id": "ad66TSpJq4en",
        "new_sheet": false,
        "run_control": {
          "read_only": false
        },
        "colab": {
          "base_uri": "https://localhost:8080/",
          "height": 734
        },
        "outputId": "693a7721-e93e-4a5f-bc68-e440e4ed93e4"
      },
      "source": [
        "### type your answer here\n",
        "topFiveteen.plot(kind='barh', figsize=(12, 12), color='darkslateblue')\n",
        "plt.xlabel('Jumlah Imigrasi')\n",
        "plt.title('Top 15 yang Berkontribusi pada Imigrasi ke Kanada antara tahun 1980 - 2013')\n",
        "\n",
        "for index, value in enumerate(topFiveteen): \n",
        "    label = format(int(value), ',') # format int with commas\n",
        "    \n",
        "    plt.annotate(label, xy=(value - 47000, index - 0.10), color='black')\n",
        "\n",
        "plt.show()"
      ],
      "execution_count": 64,
      "outputs": [
        {
          "output_type": "display_data",
          "data": {
            "image/png": "[encoded data removed]",
            "text/plain": [
              "<Figure size 864x864 with 1 Axes>"
            ]
          },
          "metadata": {}
        }
      ]
    },
    {
      "cell_type": "markdown",
      "metadata": {
        "button": false,
        "id": "LoCn2Forq4ep",
        "new_sheet": false,
        "run_control": {
          "read_only": false
        }
      },
      "source": [
        "# Thank you for completing this lab!"
      ]
    },
    {
      "cell_type": "markdown",
      "metadata": {
        "button": false,
        "id": "GBiJn-qnq4eq",
        "new_sheet": false,
        "run_control": {
          "read_only": false
        }
      },
      "source": [
        "<hr>\n",
        "\n",
        "Copyright &copy; 2019 [Cognitive Class](https://cognitiveclass.ai/?utm_source=bducopyrightlink&utm_medium=dswb&utm_campaign=bdu). This notebook and its source code are released under the terms of the [MIT License](https://bigdatauniversity.com/mit-license/)."
      ]
    }
  ]
}